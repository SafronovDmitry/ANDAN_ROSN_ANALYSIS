{
 "cells": [
  {
   "cell_type": "code",
   "execution_count": 22,
   "id": "1a151e10",
   "metadata": {},
   "outputs": [],
   "source": [
    "import pandas as pd\n",
    "import numpy as np\n",
    "from scipy import stats"
   ]
  },
  {
   "cell_type": "code",
   "execution_count": 2,
   "id": "f282a3ed",
   "metadata": {},
   "outputs": [],
   "source": [
    "df_ROSN = pd.read_csv('ROSN_after_EDA.csv')  \n",
    "df_SBER = pd.read_csv('SBER_after_EDA.csv')  \n",
    "df_LKOH = pd.read_csv('LKOH_after_EDA.csv')  \n",
    "df_SI = pd.read_csv('SI_after_EDA.csv')  \n",
    "df_BR = pd.read_csv('BR_after_EDA.csv')  \n",
    "df_IMOEX = pd.read_csv('IMOEX_after_EDA.csv')  \n",
    "df_STOCK_AGGREGATE = pd.read_csv('df_STOCK_AGGREGATE.csv')  "
   ]
  },
  {
   "cell_type": "markdown",
   "id": "78bc3386",
   "metadata": {},
   "source": [
    "# Гипотезы"
   ]
  },
  {
   "cell_type": "markdown",
   "id": "339d4600",
   "metadata": {},
   "source": [
    "* **№ 1** | H0: Матожидание цены Роснефти за последнее полугодие (январь-апрель 2024) равняется цене после дивидендного гэпа в 2024 году.\n",
    "\n",
    "\n",
    "* **№ 2** | H0: Курс рубля по отношению к доллару меняется вне зависимости от наличия или отсутствия налогового периода.\n",
    "\n",
    "\n",
    "* **№ 3** | H0: Объявление о размерах дивидендов влияет на стоимость акций компаний сразу после объявления."
   ]
  },
  {
   "cell_type": "markdown",
   "id": "852548eb",
   "metadata": {},
   "source": [
    "## Гипотеза №1"
   ]
  },
  {
   "cell_type": "markdown",
   "id": "755840e3",
   "metadata": {},
   "source": [
    "**Описание гипотезы:**\n",
    "\n",
    "Дивидендный гэп – это резкое падение цены акций после выплаты дивидендов. Он возникает потому, что выплата дивидендов уменьшает стоимость компании на сумму выплаченных дивидендов. Если цена акций после гэпа быстро восстанавливается и матожидание цены в следующем полугодии остается на том же уровне, это свидетельствует о стабильности и устойчивости компании. Это может быть позитивным сигналом для инвесторов.\n",
    "\n",
    "Изучение матожидания цены акций после дивидендного гэпа позволяет понять, насколько дивиденды влияют на долгосрочную стоимость акций. Это важно для инвесторов, заинтересованных в устойчивом доходе от дивидендов и стабильной стоимости акций.\n",
    "Прогнозирование будущих цен на основе исторических данных:\n",
    "\n",
    "Если матожидание цены в новом полугодии остается на уровне цены после дивидендного гэпа, это может использоваться для прогнозирования будущих цен. Инвесторы могут полагаться на эту информацию для принятия решений о покупке или продаже акций.\n",
    "Оценка эффективности управления компанией:\n",
    "\n",
    "Способность компании поддерживать стабильные цены акций после выплаты дивидендов может свидетельствовать о ее эффективном управлении и сильных фундаментальных показателях. Это может повышать доверие инвесторов и способствовать долгосрочной привлекательности акций компании."
   ]
  },
  {
   "cell_type": "markdown",
   "id": "83ad7068",
   "metadata": {},
   "source": [
    "**Проверка гипотезы**\n",
    "Для начала соберем данные о цене Роснефти за последнее полугодие (январь-апрель 2024). В качестве цены будем брать среднюю цену за торговую сессию \"WAPRICE\""
   ]
  },
  {
   "cell_type": "code",
   "execution_count": 39,
   "id": "103d13d1",
   "metadata": {},
   "outputs": [],
   "source": [
    "df_ROSN['TRADEDATE'] = pd.to_datetime(df_ROSN['TRADEDATE'])"
   ]
  },
  {
   "cell_type": "code",
   "execution_count": 40,
   "id": "e3161400",
   "metadata": {},
   "outputs": [],
   "source": [
    "df_ROSN_2024 = df_ROSN[df_ROSN['TRADEDATE'].dt.year == 2024][['WAPRICE']]"
   ]
  },
  {
   "cell_type": "code",
   "execution_count": 41,
   "id": "e44e5cdc",
   "metadata": {},
   "outputs": [],
   "source": [
    "df_ROSN_2024 = df_ROSN_2024.values.reshape(1,-1).tolist()[0]"
   ]
  },
  {
   "cell_type": "markdown",
   "id": "0c10244a",
   "metadata": {},
   "source": [
    "Будем проверять гипотезу на основе t-теста. Для начала нам нужна цена после дивидендного гэпа в 2023 году. Дата выплаты девидентов по Роснефти является 11.01.2024 (11 января 2024 года). Значит необходимо брать цену сразу после девидентного гэпа  то есть 12 января."
   ]
  },
  {
   "cell_type": "code",
   "execution_count": 64,
   "id": "083a333c",
   "metadata": {},
   "outputs": [],
   "source": [
    "mu = df_ROSN[(df_ROSN['TRADEDATE'].dt.year == 2024) & (df_ROSN['TRADEDATE'] == '2024-01-12')]['WAPRICE']"
   ]
  },
  {
   "cell_type": "code",
   "execution_count": 66,
   "id": "498fb04d",
   "metadata": {
    "scrolled": false
   },
   "outputs": [],
   "source": [
    "result = stats.ttest_1samp(df_ROSN_2024, mu)"
   ]
  },
  {
   "cell_type": "markdown",
   "id": "3361a0db",
   "metadata": {},
   "source": [
    "Уровень значимости (или уровень доверия) 5% ($\\alpha=0.05$) является общепринятым стандартом в статистике и науке. Это означает, что существует 5% вероятность (1 из 20) отклонить нулевую гипотезу, когда она на самом деле верна (ошибка первого рода)."
   ]
  },
  {
   "cell_type": "code",
   "execution_count": 68,
   "id": "cc5623fb",
   "metadata": {},
   "outputs": [],
   "source": [
    "a = 0.05"
   ]
  },
  {
   "cell_type": "code",
   "execution_count": 74,
   "id": "daa5a5d7",
   "metadata": {},
   "outputs": [
    {
     "data": {
      "text/plain": [
       "False"
      ]
     },
     "execution_count": 74,
     "metadata": {},
     "output_type": "execute_result"
    }
   ],
   "source": [
    "(result.pvalue > a)[0]"
   ]
  },
  {
   "cell_type": "markdown",
   "id": "ad70cf4d",
   "metadata": {},
   "source": [
    "Отвержение гипотезы означает, что средняя цена акций Роснефти за последние полугодие (январь-апрель 2024) значимо отличается от цены после дивидендного гэпа в 2023 году. Это может указывать на значительные изменения в динамике цен акций, что требует дальнейшего анализа для понимания причин этих изменений."
   ]
  },
  {
   "cell_type": "markdown",
   "id": "f550605b",
   "metadata": {},
   "source": [
    "## Гипотеза №2"
   ]
  },
  {
   "cell_type": "markdown",
   "id": "ac95a50b",
   "metadata": {},
   "source": [
    "**Описание гипотезы:**\n",
    "\n",
    "Экспортеры получают доходы в иностранной валюте от продаж за рубежом.\n",
    "В налоговый период компании-экспортеры обязаны выплачивать налоги в рублях.\n",
    "Для этого экспортеры продают часть своих валютных резервов, чтобы купить рубли для уплаты налогов.\n",
    "\n",
    "Увеличение предложения иностранной валюты на рынке приводит к укреплению рубля и снижению курса доллара.\n",
    "\n",
    "В периоды уплаты налогов можно наблюдать увеличение объема продаж иностранной валюты.\n",
    "\n",
    "Это сопровождается временным укреплением национальной валюты (рубля).\n",
    "\n",
    "**Проверка гипотезы**\n",
    "\n",
    "Для начала нам нужна информация касательно того в какие периоды проводятся налоговые периоды.\n",
    "\n",
    "Влияние экспортеров на курс рубля\n",
    "Экспортеры, как правило, продают свою валютную выручку за несколько дней до наступления сроков выплат налогов и других обязательных платежей. Обычно это происходит за 3-5 дней до дедлайна (25 числа каждого месяца происходят выплаты по НДПИ, НДС, акцизам; 28 числа – по налогу на прибыль.)\n",
    "Соответственно, пик продаж валюты экспортерами приходится на период с 20 по 23 число каждого месяца. Это приводит к увеличению предложения долларов и евро на внутреннем валютном рынке России, что, в свою очередь, способствует укреплению курса рубля в эти дни.\n",
    "Таким образом, можно ожидать, что основное укрепление российской национальной валюты по отношению к доллару и евро будет наблюдаться в период с 20 по 23 число каждого месяца, когда экспортеры активно продают свою валютную выручку."
   ]
  },
  {
   "cell_type": "code",
   "execution_count": 183,
   "id": "06e11301",
   "metadata": {},
   "outputs": [],
   "source": [
    "data = df_SI[['TRADEDATE', 'WAPRICE']]"
   ]
  },
  {
   "cell_type": "code",
   "execution_count": 184,
   "id": "28dc4256",
   "metadata": {},
   "outputs": [
    {
     "data": {
      "text/html": [
       "<div>\n",
       "<style scoped>\n",
       "    .dataframe tbody tr th:only-of-type {\n",
       "        vertical-align: middle;\n",
       "    }\n",
       "\n",
       "    .dataframe tbody tr th {\n",
       "        vertical-align: top;\n",
       "    }\n",
       "\n",
       "    .dataframe thead th {\n",
       "        text-align: right;\n",
       "    }\n",
       "</style>\n",
       "<table border=\"1\" class=\"dataframe\">\n",
       "  <thead>\n",
       "    <tr style=\"text-align: right;\">\n",
       "      <th></th>\n",
       "      <th>TRADEDATE</th>\n",
       "      <th>WAPRICE</th>\n",
       "    </tr>\n",
       "  </thead>\n",
       "  <tbody>\n",
       "    <tr>\n",
       "      <th>0</th>\n",
       "      <td>2021-01-04</td>\n",
       "      <td>74151.0</td>\n",
       "    </tr>\n",
       "    <tr>\n",
       "      <th>1</th>\n",
       "      <td>2021-01-05</td>\n",
       "      <td>75122.0</td>\n",
       "    </tr>\n",
       "    <tr>\n",
       "      <th>2</th>\n",
       "      <td>2021-01-06</td>\n",
       "      <td>74323.0</td>\n",
       "    </tr>\n",
       "    <tr>\n",
       "      <th>3</th>\n",
       "      <td>2021-01-08</td>\n",
       "      <td>74709.0</td>\n",
       "    </tr>\n",
       "    <tr>\n",
       "      <th>4</th>\n",
       "      <td>2021-01-11</td>\n",
       "      <td>75069.0</td>\n",
       "    </tr>\n",
       "    <tr>\n",
       "      <th>...</th>\n",
       "      <td>...</td>\n",
       "      <td>...</td>\n",
       "    </tr>\n",
       "    <tr>\n",
       "      <th>799</th>\n",
       "      <td>2024-03-26</td>\n",
       "      <td>95010.0</td>\n",
       "    </tr>\n",
       "    <tr>\n",
       "      <th>800</th>\n",
       "      <td>2024-03-27</td>\n",
       "      <td>94800.0</td>\n",
       "    </tr>\n",
       "    <tr>\n",
       "      <th>801</th>\n",
       "      <td>2024-03-28</td>\n",
       "      <td>94631.0</td>\n",
       "    </tr>\n",
       "    <tr>\n",
       "      <th>802</th>\n",
       "      <td>2024-03-29</td>\n",
       "      <td>94355.0</td>\n",
       "    </tr>\n",
       "    <tr>\n",
       "      <th>803</th>\n",
       "      <td>2024-04-01</td>\n",
       "      <td>94555.0</td>\n",
       "    </tr>\n",
       "  </tbody>\n",
       "</table>\n",
       "<p>804 rows × 2 columns</p>\n",
       "</div>"
      ],
      "text/plain": [
       "      TRADEDATE  WAPRICE\n",
       "0    2021-01-04  74151.0\n",
       "1    2021-01-05  75122.0\n",
       "2    2021-01-06  74323.0\n",
       "3    2021-01-08  74709.0\n",
       "4    2021-01-11  75069.0\n",
       "..          ...      ...\n",
       "799  2024-03-26  95010.0\n",
       "800  2024-03-27  94800.0\n",
       "801  2024-03-28  94631.0\n",
       "802  2024-03-29  94355.0\n",
       "803  2024-04-01  94555.0\n",
       "\n",
       "[804 rows x 2 columns]"
      ]
     },
     "execution_count": 184,
     "metadata": {},
     "output_type": "execute_result"
    }
   ],
   "source": [
    "data"
   ]
  },
  {
   "cell_type": "code",
   "execution_count": 185,
   "id": "1b0cf62a",
   "metadata": {},
   "outputs": [],
   "source": [
    "dates = data[['TRADEDATE']]"
   ]
  },
  {
   "cell_type": "code",
   "execution_count": 186,
   "id": "ed1d4619",
   "metadata": {},
   "outputs": [],
   "source": [
    "dates['Day'] = dates['TRADEDATE'].apply(lambda x: int(x.replace('-', \"\"))%100)"
   ]
  },
  {
   "cell_type": "code",
   "execution_count": 187,
   "id": "6739116b",
   "metadata": {},
   "outputs": [
    {
     "data": {
      "text/html": [
       "<div>\n",
       "<style scoped>\n",
       "    .dataframe tbody tr th:only-of-type {\n",
       "        vertical-align: middle;\n",
       "    }\n",
       "\n",
       "    .dataframe tbody tr th {\n",
       "        vertical-align: top;\n",
       "    }\n",
       "\n",
       "    .dataframe thead th {\n",
       "        text-align: right;\n",
       "    }\n",
       "</style>\n",
       "<table border=\"1\" class=\"dataframe\">\n",
       "  <thead>\n",
       "    <tr style=\"text-align: right;\">\n",
       "      <th></th>\n",
       "      <th>TRADEDATE</th>\n",
       "      <th>Day</th>\n",
       "    </tr>\n",
       "  </thead>\n",
       "  <tbody>\n",
       "    <tr>\n",
       "      <th>0</th>\n",
       "      <td>2021-01-04</td>\n",
       "      <td>4</td>\n",
       "    </tr>\n",
       "    <tr>\n",
       "      <th>1</th>\n",
       "      <td>2021-01-05</td>\n",
       "      <td>5</td>\n",
       "    </tr>\n",
       "    <tr>\n",
       "      <th>2</th>\n",
       "      <td>2021-01-06</td>\n",
       "      <td>6</td>\n",
       "    </tr>\n",
       "    <tr>\n",
       "      <th>3</th>\n",
       "      <td>2021-01-08</td>\n",
       "      <td>8</td>\n",
       "    </tr>\n",
       "    <tr>\n",
       "      <th>4</th>\n",
       "      <td>2021-01-11</td>\n",
       "      <td>11</td>\n",
       "    </tr>\n",
       "    <tr>\n",
       "      <th>...</th>\n",
       "      <td>...</td>\n",
       "      <td>...</td>\n",
       "    </tr>\n",
       "    <tr>\n",
       "      <th>799</th>\n",
       "      <td>2024-03-26</td>\n",
       "      <td>26</td>\n",
       "    </tr>\n",
       "    <tr>\n",
       "      <th>800</th>\n",
       "      <td>2024-03-27</td>\n",
       "      <td>27</td>\n",
       "    </tr>\n",
       "    <tr>\n",
       "      <th>801</th>\n",
       "      <td>2024-03-28</td>\n",
       "      <td>28</td>\n",
       "    </tr>\n",
       "    <tr>\n",
       "      <th>802</th>\n",
       "      <td>2024-03-29</td>\n",
       "      <td>29</td>\n",
       "    </tr>\n",
       "    <tr>\n",
       "      <th>803</th>\n",
       "      <td>2024-04-01</td>\n",
       "      <td>1</td>\n",
       "    </tr>\n",
       "  </tbody>\n",
       "</table>\n",
       "<p>804 rows × 2 columns</p>\n",
       "</div>"
      ],
      "text/plain": [
       "      TRADEDATE  Day\n",
       "0    2021-01-04    4\n",
       "1    2021-01-05    5\n",
       "2    2021-01-06    6\n",
       "3    2021-01-08    8\n",
       "4    2021-01-11   11\n",
       "..          ...  ...\n",
       "799  2024-03-26   26\n",
       "800  2024-03-27   27\n",
       "801  2024-03-28   28\n",
       "802  2024-03-29   29\n",
       "803  2024-04-01    1\n",
       "\n",
       "[804 rows x 2 columns]"
      ]
     },
     "execution_count": 187,
     "metadata": {},
     "output_type": "execute_result"
    }
   ],
   "source": [
    "dates"
   ]
  },
  {
   "cell_type": "code",
   "execution_count": 188,
   "id": "eb5d7b85",
   "metadata": {},
   "outputs": [],
   "source": [
    "dates['Tax period']  = np.where(((dates['Day']>=20) & (dates['Day']<=23)), 1, 0)"
   ]
  },
  {
   "cell_type": "code",
   "execution_count": 189,
   "id": "b1287894",
   "metadata": {
    "scrolled": true
   },
   "outputs": [
    {
     "data": {
      "text/plain": [
       "0    696\n",
       "1    108\n",
       "Name: Tax period, dtype: int64"
      ]
     },
     "execution_count": 189,
     "metadata": {},
     "output_type": "execute_result"
    }
   ],
   "source": [
    "dates['Tax period'].value_counts()"
   ]
  },
  {
   "cell_type": "markdown",
   "id": "d38d970c",
   "metadata": {},
   "source": [
    "1 Если день выпадает на налоговый период и 0, иначе."
   ]
  },
  {
   "cell_type": "code",
   "execution_count": 190,
   "id": "99c3968d",
   "metadata": {},
   "outputs": [],
   "source": [
    "data_course = df_SI[['TRADEDATE','TRENDCLSPR']]"
   ]
  },
  {
   "cell_type": "code",
   "execution_count": 191,
   "id": "d8b992f2",
   "metadata": {},
   "outputs": [],
   "source": [
    "data_course = data_course.copy()\n",
    "data_course.loc[:, 'TRENDCLSPR_TAX'] = data_course['TRENDCLSPR'].apply(lambda x: 1 if x <= 0 else 0)"
   ]
  },
  {
   "cell_type": "code",
   "execution_count": 192,
   "id": "8e15cef2",
   "metadata": {},
   "outputs": [],
   "source": [
    "data_course.set_index('TRADEDATE', inplace=True)"
   ]
  },
  {
   "cell_type": "code",
   "execution_count": 193,
   "id": "a9b4473a",
   "metadata": {},
   "outputs": [],
   "source": [
    "dates.set_index('TRADEDATE', inplace=True)"
   ]
  },
  {
   "cell_type": "code",
   "execution_count": 194,
   "id": "7509dd14",
   "metadata": {},
   "outputs": [
    {
     "data": {
      "text/html": [
       "<div>\n",
       "<style scoped>\n",
       "    .dataframe tbody tr th:only-of-type {\n",
       "        vertical-align: middle;\n",
       "    }\n",
       "\n",
       "    .dataframe tbody tr th {\n",
       "        vertical-align: top;\n",
       "    }\n",
       "\n",
       "    .dataframe thead th {\n",
       "        text-align: right;\n",
       "    }\n",
       "</style>\n",
       "<table border=\"1\" class=\"dataframe\">\n",
       "  <thead>\n",
       "    <tr style=\"text-align: right;\">\n",
       "      <th></th>\n",
       "      <th>TRENDCLSPR</th>\n",
       "      <th>TRENDCLSPR_TAX</th>\n",
       "    </tr>\n",
       "    <tr>\n",
       "      <th>TRADEDATE</th>\n",
       "      <th></th>\n",
       "      <th></th>\n",
       "    </tr>\n",
       "  </thead>\n",
       "  <tbody>\n",
       "    <tr>\n",
       "      <th>2021-01-04</th>\n",
       "      <td>-0.0097</td>\n",
       "      <td>1</td>\n",
       "    </tr>\n",
       "    <tr>\n",
       "      <th>2021-01-05</th>\n",
       "      <td>0.0043</td>\n",
       "      <td>0</td>\n",
       "    </tr>\n",
       "    <tr>\n",
       "      <th>2021-01-06</th>\n",
       "      <td>-0.0039</td>\n",
       "      <td>1</td>\n",
       "    </tr>\n",
       "    <tr>\n",
       "      <th>2021-01-08</th>\n",
       "      <td>0.0036</td>\n",
       "      <td>0</td>\n",
       "    </tr>\n",
       "    <tr>\n",
       "      <th>2021-01-11</th>\n",
       "      <td>0.0068</td>\n",
       "      <td>0</td>\n",
       "    </tr>\n",
       "    <tr>\n",
       "      <th>...</th>\n",
       "      <td>...</td>\n",
       "      <td>...</td>\n",
       "    </tr>\n",
       "    <tr>\n",
       "      <th>2024-03-26</th>\n",
       "      <td>0.0008</td>\n",
       "      <td>0</td>\n",
       "    </tr>\n",
       "    <tr>\n",
       "      <th>2024-03-27</th>\n",
       "      <td>-0.0080</td>\n",
       "      <td>1</td>\n",
       "    </tr>\n",
       "    <tr>\n",
       "      <th>2024-03-28</th>\n",
       "      <td>0.0038</td>\n",
       "      <td>0</td>\n",
       "    </tr>\n",
       "    <tr>\n",
       "      <th>2024-03-29</th>\n",
       "      <td>-0.0038</td>\n",
       "      <td>1</td>\n",
       "    </tr>\n",
       "    <tr>\n",
       "      <th>2024-04-01</th>\n",
       "      <td>0.0031</td>\n",
       "      <td>0</td>\n",
       "    </tr>\n",
       "  </tbody>\n",
       "</table>\n",
       "<p>804 rows × 2 columns</p>\n",
       "</div>"
      ],
      "text/plain": [
       "            TRENDCLSPR  TRENDCLSPR_TAX\n",
       "TRADEDATE                             \n",
       "2021-01-04     -0.0097               1\n",
       "2021-01-05      0.0043               0\n",
       "2021-01-06     -0.0039               1\n",
       "2021-01-08      0.0036               0\n",
       "2021-01-11      0.0068               0\n",
       "...                ...             ...\n",
       "2024-03-26      0.0008               0\n",
       "2024-03-27     -0.0080               1\n",
       "2024-03-28      0.0038               0\n",
       "2024-03-29     -0.0038               1\n",
       "2024-04-01      0.0031               0\n",
       "\n",
       "[804 rows x 2 columns]"
      ]
     },
     "execution_count": 194,
     "metadata": {},
     "output_type": "execute_result"
    }
   ],
   "source": [
    "data_course"
   ]
  },
  {
   "cell_type": "code",
   "execution_count": 195,
   "id": "61a8dd0d",
   "metadata": {},
   "outputs": [],
   "source": [
    "df = pd.DataFrame(columns=['Dynamics', 'Tax period'])"
   ]
  },
  {
   "cell_type": "code",
   "execution_count": 218,
   "id": "95127113",
   "metadata": {},
   "outputs": [],
   "source": [
    "df.dropna(inplace = True)"
   ]
  },
  {
   "cell_type": "code",
   "execution_count": 219,
   "id": "6412eb67",
   "metadata": {},
   "outputs": [],
   "source": [
    "df['Dynamics'] = data_course['TRENDCLSPR_TAX']\n",
    "df['Tax period'] = dates['Tax period']"
   ]
  },
  {
   "cell_type": "code",
   "execution_count": 220,
   "id": "3942eb93",
   "metadata": {},
   "outputs": [
    {
     "data": {
      "text/html": [
       "<div>\n",
       "<style scoped>\n",
       "    .dataframe tbody tr th:only-of-type {\n",
       "        vertical-align: middle;\n",
       "    }\n",
       "\n",
       "    .dataframe tbody tr th {\n",
       "        vertical-align: top;\n",
       "    }\n",
       "\n",
       "    .dataframe thead th {\n",
       "        text-align: right;\n",
       "    }\n",
       "</style>\n",
       "<table border=\"1\" class=\"dataframe\">\n",
       "  <thead>\n",
       "    <tr style=\"text-align: right;\">\n",
       "      <th>Dynamics</th>\n",
       "      <th>0</th>\n",
       "      <th>1</th>\n",
       "    </tr>\n",
       "    <tr>\n",
       "      <th>Tax period</th>\n",
       "      <th></th>\n",
       "      <th></th>\n",
       "    </tr>\n",
       "  </thead>\n",
       "  <tbody>\n",
       "    <tr>\n",
       "      <th>0</th>\n",
       "      <td>349</td>\n",
       "      <td>347</td>\n",
       "    </tr>\n",
       "    <tr>\n",
       "      <th>1</th>\n",
       "      <td>53</td>\n",
       "      <td>55</td>\n",
       "    </tr>\n",
       "  </tbody>\n",
       "</table>\n",
       "</div>"
      ],
      "text/plain": [
       "Dynamics      0    1\n",
       "Tax period          \n",
       "0           349  347\n",
       "1            53   55"
      ]
     },
     "execution_count": 220,
     "metadata": {},
     "output_type": "execute_result"
    }
   ],
   "source": [
    "df_2 = df.groupby('Tax period')['Dynamics'].value_counts().unstack()\n",
    "df_2"
   ]
  },
  {
   "cell_type": "code",
   "execution_count": 221,
   "id": "ee4716f6",
   "metadata": {},
   "outputs": [
    {
     "data": {
      "text/plain": [
       "0.5024875621890548"
      ]
     },
     "execution_count": 221,
     "metadata": {},
     "output_type": "execute_result"
    }
   ],
   "source": [
    "accuracy = (349+55)/(349+347+53+55)\n",
    "accuracy"
   ]
  },
  {
   "cell_type": "code",
   "execution_count": 223,
   "id": "961888bf",
   "metadata": {},
   "outputs": [
    {
     "name": "stdout",
     "output_type": "stream",
     "text": [
      "chi2-статистика = 0.042784163473818644\n",
      "p-value = 0.8361322147991934\n",
      "Нулевая гипотеза не отвергается. Эффекта налогового периода не наблюдается\n"
     ]
    }
   ],
   "source": [
    "a = stats.chi2_contingency(df_2, correction=False)\n",
    "chi2=a[0]\n",
    "p_value=a[1]\n",
    "\n",
    "print('chi2-статистика =', chi2)\n",
    "print('p-value =', p_value)\n",
    "\n",
    "if p_value < 0.05:\n",
    "    print(\"Нулевая гипотеза отвергается. Эффект налогового периода наблюдается\")\n",
    "else:\n",
    "    print(\"Нулевая гипотеза не отвергается. Эффекта налогового периода не наблюдается\")"
   ]
  },
  {
   "cell_type": "markdown",
   "id": "9510321c",
   "metadata": {},
   "source": [
    "Разница между наблюдаемыми частотами для различных категорий (налоговый период и динамика курса) была слишком мала, чтобы быть статистически значимой. Даже если различия существуют, они могут быть слишком малы, чтобы обнаружить их с помощью используемых методов.\n",
    "Ограниченность данных:\n",
    "\n",
    "Возможно, наши данные не охватывают достаточно длительный период или не содержат достаточно наблюдений, чтобы адекватно выявить существование эффекта налогового периода на курс рубля. Более длинные временные ряды и дополнительные данные могли бы дать более точные результаты.\n",
    "Влияние других факторов:\n",
    "\n",
    "Курс рубля по отношению к доллару определяется множеством факторов, таких как мировые цены на нефть, монетарная политика, международные санкции, политические события и т.д. Влияние налогового периода могло быть подавлено или замаскировано этими другими, более сильными факторами.\n",
    "Сезонные и случайные колебания:\n",
    "\n",
    "Валютные курсы подвержены сезонным и случайным колебаниям, которые могут сильно варьироваться. Налоговый период мог не быть достаточно значимым фактором, чтобы проявиться на фоне этих колебаний.\n",
    "Заключение\n",
    "\n",
    "Наш анализ не предоставил достаточных доказательств в пользу того, что налоговый период оказывает значительное влияние на курс рубля по отношению к доллару. Это может быть связано с вышеупомянутыми причинами, и дальнейшие исследования с более обширными и подробными данными могли бы предоставить более ясную картину."
   ]
  },
  {
   "cell_type": "markdown",
   "id": "1dcc999c",
   "metadata": {},
   "source": [
    "## Гипотеза №3"
   ]
  },
  {
   "cell_type": "markdown",
   "id": "05f17e37",
   "metadata": {},
   "source": [
    "**Описание гипотезы**\n",
    "\n",
    "Гипотеза о том, что объявление о размерах дивидендов влияет на стоимость акций компаний до момента выплаты имеет множество предпосылок. Объявление о выплате дивидендов несет в себе дополнительную информацию для фондового рынка, являясь сигналом для инвесторов. Это может привести к изменению стоимости акций компании еще до момента выплаты дивидендов. \n",
    "Кроме того, инвесторы могут начать покупать акции уже после выхода отчетности компании, ожидая объявления размера дивидендов. Это может привести к росту стоимости акций до момента выплаты дивидендов.Обычно после объявления дивидендов акции компании растут в цене, и этот рост может продолжаться вплоть до даты отсечения. Это происходит потому, что инвесторы ожидают получения дивидендов и готовы платить больше за акции, которые обеспечивают дополнительный доход.\n",
    "Таким образом, объявление о размерах дивидендов может влиять на стоимость акций компаний до момента выплаты, так как инвесторы учитывают ожидаемый доход от дивидендов при принятии инвестиционных решений.\n",
    "\n",
    "**Проверка гипотезы**\n",
    "\n",
    "Для подтверждения гипотезы, мы намерены рассмотреть динамику акций в день объявления дивидендов, предполагается, что рынок будет позитивно реагировать ростом на положительные новости о предстоящей выплате дивидендов.\n",
    "\n",
    "Для начала мы выписали даты объявления дивидендов за рассматриваемый в проекте период"
   ]
  },
  {
   "cell_type": "code",
   "execution_count": 227,
   "id": "67adbf8c",
   "metadata": {},
   "outputs": [],
   "source": [
    "d_dates = ['2021-03-04', '2021-08-24', '2022-05-30', '2022-11-14', '2023-05-30', '2023-11-15']"
   ]
  },
  {
   "cell_type": "code",
   "execution_count": 235,
   "id": "d68980f4",
   "metadata": {},
   "outputs": [],
   "source": [
    "d_dates = pd.to_datetime(d_dates, format='%Y-%m-%d')\n",
    "\n",
    "df_ROSN['TRADEDATE'] = pd.to_datetime(df_ROSN['TRADEDATE'], format='%Y-%m-%d')\n",
    "df_ROSN_filtered = df_ROSN[df_ROSN['TRADEDATE'].isin(d_dates)]\n",
    "\n",
    "df_ROSN_filtered = df_ROSN_filtered[['TRADEDATE', 'WAPRICE']]"
   ]
  },
  {
   "cell_type": "code",
   "execution_count": 240,
   "id": "0aed8454",
   "metadata": {},
   "outputs": [],
   "source": [
    "df_ROSN_filtered['Delta'] = df_ROSN['TRENDCLSPR']"
   ]
  },
  {
   "cell_type": "code",
   "execution_count": 241,
   "id": "1a40265c",
   "metadata": {
    "scrolled": true
   },
   "outputs": [
    {
     "data": {
      "text/html": [
       "<div>\n",
       "<style scoped>\n",
       "    .dataframe tbody tr th:only-of-type {\n",
       "        vertical-align: middle;\n",
       "    }\n",
       "\n",
       "    .dataframe tbody tr th {\n",
       "        vertical-align: top;\n",
       "    }\n",
       "\n",
       "    .dataframe thead th {\n",
       "        text-align: right;\n",
       "    }\n",
       "</style>\n",
       "<table border=\"1\" class=\"dataframe\">\n",
       "  <thead>\n",
       "    <tr style=\"text-align: right;\">\n",
       "      <th></th>\n",
       "      <th>TRADEDATE</th>\n",
       "      <th>WAPRICE</th>\n",
       "      <th>Delta</th>\n",
       "    </tr>\n",
       "  </thead>\n",
       "  <tbody>\n",
       "    <tr>\n",
       "      <th>42</th>\n",
       "      <td>2021-03-04</td>\n",
       "      <td>539.55</td>\n",
       "      <td>1.18</td>\n",
       "    </tr>\n",
       "    <tr>\n",
       "      <th>163</th>\n",
       "      <td>2021-08-24</td>\n",
       "      <td>543.35</td>\n",
       "      <td>0.03</td>\n",
       "    </tr>\n",
       "    <tr>\n",
       "      <th>354</th>\n",
       "      <td>2022-05-30</td>\n",
       "      <td>396.65</td>\n",
       "      <td>-4.08</td>\n",
       "    </tr>\n",
       "    <tr>\n",
       "      <th>472</th>\n",
       "      <td>2022-11-14</td>\n",
       "      <td>352.10</td>\n",
       "      <td>-1.71</td>\n",
       "    </tr>\n",
       "    <tr>\n",
       "      <th>608</th>\n",
       "      <td>2023-05-30</td>\n",
       "      <td>438.25</td>\n",
       "      <td>-1.35</td>\n",
       "    </tr>\n",
       "    <tr>\n",
       "      <th>728</th>\n",
       "      <td>2023-11-15</td>\n",
       "      <td>585.35</td>\n",
       "      <td>-1.07</td>\n",
       "    </tr>\n",
       "  </tbody>\n",
       "</table>\n",
       "</div>"
      ],
      "text/plain": [
       "     TRADEDATE  WAPRICE  Delta\n",
       "42  2021-03-04   539.55   1.18\n",
       "163 2021-08-24   543.35   0.03\n",
       "354 2022-05-30   396.65  -4.08\n",
       "472 2022-11-14   352.10  -1.71\n",
       "608 2023-05-30   438.25  -1.35\n",
       "728 2023-11-15   585.35  -1.07"
      ]
     },
     "execution_count": 241,
     "metadata": {},
     "output_type": "execute_result"
    }
   ],
   "source": [
    "df_ROSN_filtered"
   ]
  },
  {
   "cell_type": "code",
   "execution_count": 239,
   "id": "ea5695ff",
   "metadata": {},
   "outputs": [
    {
     "name": "stdout",
     "output_type": "stream",
     "text": [
      "t-статистика: 0.6603495603855019\n",
      "p-значение: 0.538232604373106\n",
      "Нулевая гипотеза не отвергается: объявление о размерах дивидендов влияет на стоимость акций компаний.\n"
     ]
    }
   ],
   "source": [
    "df_ROSN['TRADEDATE'] = pd.to_datetime(df_ROSN['TRADEDATE'])\n",
    "before_dates = df_ROSN[df_ROSN['TRADEDATE'].isin(['2021-03-03', '2021-08-23', '2022-05-27', '2022-11-11', '2023-05-29', '2023-11-14'])]\n",
    "after_dates = df_ROSN[df_ROSN['TRADEDATE'].isin(['2021-03-04', '2021-08-24', '2022-05-30', '2022-11-14', '2023-05-30', '2023-11-15'])]\n",
    "\n",
    "before_prices = before_dates['WAPRICE'].values\n",
    "after_prices = after_dates['WAPRICE'].values\n",
    "\n",
    "t_stat, p_value = stats.ttest_rel(before_prices, after_prices)\n",
    "\n",
    "print(f\"t-статистика: {t_stat}\")\n",
    "print(f\"p-значение: {p_value}\")\n",
    "\n",
    "alpha = 0.05\n",
    "if p_value > alpha:\n",
    "    print(\"Нулевая гипотеза не отвергается: объявление о размерах дивидендов влияет на стоимость акций компаний.\")\n",
    "else:\n",
    "    print(\"Нулевая гипотеза отвергается: нет статистически значимого влияния объявления о размерах дивидендов на стоимость акций компаний.\")"
   ]
  },
  {
   "cell_type": "markdown",
   "id": "6f18bb6a",
   "metadata": {},
   "source": [
    "Гипотеза о положительной динамике акций в день объявления дивидендов подтверждается по вероятным нескольким причинам:\n",
    "\n",
    "1. Реакция инвесторов на выплату дивидендов свидетельствует о том, что они предпочитают дивиденды нераспределенной прибыли\n",
    "\n",
    "2. Объявление дивиденда служит позитивным сигналом рынку, что выражается в повышении цены акций в окне события.\n",
    "\n",
    "3.  Выплата дивидендов в виде акций позволяет инвесторам приобрести новые акции без транзакционных издержек, а компании сохранить ликвидные ресурсы.\n",
    "\n",
    "Таким образом, объявления о дивидендах содержат важную информацию для рынка, влияют на поведение инвесторов и цены акций, что подтверждает гипотезу о положительной динамике котировок в день объявления дивидендов"
   ]
  }
 ],
 "metadata": {
  "kernelspec": {
   "display_name": "Python 3",
   "language": "python",
   "name": "python3"
  },
  "language_info": {
   "codemirror_mode": {
    "name": "ipython",
    "version": 3
   },
   "file_extension": ".py",
   "mimetype": "text/x-python",
   "name": "python",
   "nbconvert_exporter": "python",
   "pygments_lexer": "ipython3",
   "version": "3.8.8"
  }
 },
 "nbformat": 4,
 "nbformat_minor": 5
}
